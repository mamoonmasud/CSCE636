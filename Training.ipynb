{
 "cells": [
  {
   "cell_type": "code",
   "execution_count": 1,
   "metadata": {},
   "outputs": [
    {
     "name": "stderr",
     "output_type": "stream",
     "text": [
      "Using TensorFlow backend.\n"
     ]
    },
    {
     "name": "stdout",
     "output_type": "stream",
     "text": [
      "class door, validation count: 28, train count: 87\n",
      "class not_door, validation count: 30, train count: 91\n",
      "Total data: 2 classes for 178 files for train\n"
     ]
    }
   ],
   "source": [
    "import os\n",
    "import glob\n",
    "import keras\n",
    "from keras_video import VideoFrameGenerator\n",
    "\n",
    "# use sub directories names as classes\n",
    "classes = [i.split(os.path.sep)[1] for i in glob.glob('F:/DLProj/v5_2/train/*')]\n",
    "classes.sort()\n",
    "# some global params\n",
    "SIZE = (300, 300)\n",
    "CHANNELS = 3\n",
    "NBFRAME = 15\n",
    "BS = 5\n",
    "# pattern to get videos and classes\n",
    "glob_pattern='F:/DLProj/v5_2/train/{classname}/*.mp4'\n",
    "# for data augmentation\n",
    "data_aug = keras.preprocessing.image.ImageDataGenerator(\n",
    "    zoom_range=.1,\n",
    "    horizontal_flip=True,\n",
    "    rotation_range=8,\n",
    "    width_shift_range=.2,\n",
    "    height_shift_range=.2)\n",
    "# Create video frame generator\n",
    "train = VideoFrameGenerator(\n",
    "    classes=classes, \n",
    "    glob_pattern=glob_pattern,\n",
    "    nb_frames=NBFRAME,\n",
    "    split_val=.25,  # 33% of the videos will be used as validation set. \n",
    "    shuffle=True,\n",
    "    batch_size=BS,\n",
    "    target_shape=SIZE,\n",
    "    nb_channel=CHANNELS,\n",
    "    transformation=data_aug,\n",
    "    use_frame_cache=False)"
   ]
  },
  {
   "cell_type": "code",
   "execution_count": 6,
   "metadata": {},
   "outputs": [],
   "source": [
    "# Code for Clearing the GPU memory\n",
    "from numba import cuda\n",
    "cuda.select_device(0)\n",
    "cuda.close()"
   ]
  },
  {
   "cell_type": "code",
   "execution_count": 2,
   "metadata": {},
   "outputs": [
    {
     "name": "stdout",
     "output_type": "stream",
     "text": [
      "Total data: 2 classes for 58 files for validation\n"
     ]
    }
   ],
   "source": [
    "valid = train.get_validation_generator()"
   ]
  },
  {
   "cell_type": "code",
   "execution_count": 3,
   "metadata": {},
   "outputs": [
    {
     "data": {
      "text/plain": [
       "<Figure size 2200x2500 with 75 Axes>"
      ]
     },
     "metadata": {},
     "output_type": "display_data"
    }
   ],
   "source": [
    "import keras_video.utils\n",
    "keras_video.utils.show_sample(train)"
   ]
  },
  {
   "cell_type": "code",
   "execution_count": null,
   "metadata": {},
   "outputs": [],
   "source": [
    "import gc\n",
    "del model\n",
    "gc.collect()"
   ]
  },
  {
   "cell_type": "markdown",
   "metadata": {},
   "source": [
    "# Time-Distributed CNN + LSTM Implementation"
   ]
  },
  {
   "cell_type": "code",
   "execution_count": 4,
   "metadata": {
    "collapsed": true,
    "jupyter": {
     "outputs_hidden": true
    }
   },
   "outputs": [
    {
     "name": "stdout",
     "output_type": "stream",
     "text": [
      "Model: \"sequential_1\"\n",
      "_________________________________________________________________\n",
      "Layer (type)                 Output Shape              Param #   \n",
      "=================================================================\n",
      "time_distributed_1 (TimeDist (None, 15, 98, 98, 32)    4736      \n",
      "_________________________________________________________________\n",
      "time_distributed_2 (TimeDist (None, 15, 96, 96, 32)    9248      \n",
      "_________________________________________________________________\n",
      "time_distributed_3 (TimeDist (None, 15, 96, 96, 32)    128       \n",
      "_________________________________________________________________\n",
      "time_distributed_4 (TimeDist (None, 15, 96, 96, 32)    0         \n",
      "_________________________________________________________________\n",
      "time_distributed_5 (TimeDist (None, 15, 48, 48, 32)    0         \n",
      "_________________________________________________________________\n",
      "time_distributed_6 (TimeDist (None, 15, 48, 48, 64)    18496     \n",
      "_________________________________________________________________\n",
      "time_distributed_7 (TimeDist (None, 15, 48, 48, 64)    256       \n",
      "_________________________________________________________________\n",
      "time_distributed_8 (TimeDist (None, 15, 48, 48, 64)    0         \n",
      "_________________________________________________________________\n",
      "time_distributed_9 (TimeDist (None, 15, 46, 46, 64)    36928     \n",
      "_________________________________________________________________\n",
      "time_distributed_10 (TimeDis (None, 15, 46, 46, 64)    256       \n",
      "_________________________________________________________________\n",
      "time_distributed_11 (TimeDis (None, 15, 46, 46, 64)    0         \n",
      "_________________________________________________________________\n",
      "time_distributed_12 (TimeDis (None, 15, 23, 23, 64)    0         \n",
      "_________________________________________________________________\n",
      "time_distributed_13 (TimeDis (None, 15, 23, 23, 128)   73856     \n",
      "_________________________________________________________________\n",
      "time_distributed_14 (TimeDis (None, 15, 23, 23, 128)   512       \n",
      "_________________________________________________________________\n",
      "time_distributed_15 (TimeDis (None, 15, 23, 23, 128)   0         \n",
      "_________________________________________________________________\n",
      "time_distributed_16 (TimeDis (None, 15, 21, 21, 128)   147584    \n",
      "_________________________________________________________________\n",
      "time_distributed_17 (TimeDis (None, 15, 21, 21, 128)   512       \n",
      "_________________________________________________________________\n",
      "time_distributed_18 (TimeDis (None, 15, 21, 21, 128)   0         \n",
      "_________________________________________________________________\n",
      "time_distributed_19 (TimeDis (None, 15, 10, 10, 128)   0         \n",
      "_________________________________________________________________\n",
      "time_distributed_20 (TimeDis (None, 15, 10, 10, 256)   295168    \n",
      "_________________________________________________________________\n",
      "time_distributed_21 (TimeDis (None, 15, 10, 10, 256)   1024      \n",
      "_________________________________________________________________\n",
      "time_distributed_22 (TimeDis (None, 15, 10, 10, 256)   0         \n",
      "_________________________________________________________________\n",
      "time_distributed_23 (TimeDis (None, 15, 8, 8, 256)     590080    \n",
      "_________________________________________________________________\n",
      "time_distributed_24 (TimeDis (None, 15, 8, 8, 256)     1024      \n",
      "_________________________________________________________________\n",
      "time_distributed_25 (TimeDis (None, 15, 8, 8, 256)     0         \n",
      "_________________________________________________________________\n",
      "time_distributed_26 (TimeDis (None, 15, 4, 4, 256)     0         \n",
      "_________________________________________________________________\n",
      "time_distributed_27 (TimeDis (None, 15, 4096)          0         \n",
      "_________________________________________________________________\n",
      "lstm_1 (LSTM)                (None, 64)                1065216   \n",
      "_________________________________________________________________\n",
      "dense_1 (Dense)              (None, 128)               8320      \n",
      "_________________________________________________________________\n",
      "dense_2 (Dense)              (None, 64)                8256      \n",
      "_________________________________________________________________\n",
      "dense_3 (Dense)              (None, 2)                 130       \n",
      "=================================================================\n",
      "Total params: 2,261,730\n",
      "Trainable params: 2,259,874\n",
      "Non-trainable params: 1,856\n",
      "_________________________________________________________________\n"
     ]
    }
   ],
   "source": [
    "from keras.layers.wrappers import TimeDistributed\n",
    "from keras.layers.convolutional import (Conv2D, MaxPooling3D, Conv3D,MaxPooling2D)\n",
    "from keras.layers import Dense, Flatten, Dropout, ZeroPadding3D\n",
    "from keras.layers.recurrent import LSTM\n",
    "from keras.models import Sequential, load_model\n",
    "from keras.optimizers import Adam, RMSprop\n",
    "from collections import deque\n",
    "from keras.regularizers import l2\n",
    "from keras.layers import BatchNormalization\n",
    "from keras.utils.vis_utils import plot_model\n",
    "from keras.layers.core import Dense, Dropout, Activation, Flatten\n",
    "\n",
    "\n",
    "def add_default_block(model, kernel_filters, init, reg_lambda):\n",
    "    # conv\n",
    "    model.add(TimeDistributed(Conv2D(kernel_filters, (3, 3), padding='same',\n",
    "                            kernel_initializer=init, kernel_regularizer=l2(l=reg_lambda))))\n",
    "    model.add(TimeDistributed(BatchNormalization()))\n",
    "    model.add(TimeDistributed(Activation('relu')))\n",
    "    # conv\n",
    "    model.add(TimeDistributed(Conv2D(kernel_filters, (3, 3), #padding='same',\n",
    "                            kernel_initializer=init, kernel_regularizer=l2(l=reg_lambda))))\n",
    "    model.add(TimeDistributed(BatchNormalization()))\n",
    "    model.add(TimeDistributed(Activation('relu')))\n",
    "    # max pool\n",
    "    model.add(TimeDistributed(MaxPooling2D((2, 2), strides=(2, 2))))\n",
    "\n",
    "    return model\n",
    "\n",
    "\"\"\"Build a CNN into RNN.\n",
    "Starting version from:\n",
    "https://github.com/udacity/self-driving-car/blob/master/steering-models/community-models/chauffeur/models.py\n",
    "Heavily influenced by VGG-16:\n",
    "https://arxiv.org/abs/1409.1556\n",
    "\n",
    "Also known as an LRCN:\n",
    "https://arxiv.org/pdf/1411.4389.pdf\n",
    "\"\"\"\n",
    "\n",
    "initialiser = 'glorot_uniform'\n",
    "reg_lambda  = 0.001\n",
    "\n",
    "model = Sequential()\n",
    "\n",
    "# first (non-default) block\n",
    "model.add(TimeDistributed(Conv2D(32, (7, 7), strides=(3, 3), #padding='same',\n",
    "                                    kernel_initializer=initialiser, kernel_regularizer=l2(l=reg_lambda),\n",
    "                                     activation = 'relu'\n",
    "                                    ),\n",
    "                                    input_shape=(15, 300, 300, 3)\n",
    "                                     ))\n",
    "#model.add(TimeDistributed(BatchNormalization()))\n",
    "\n",
    "model.add(TimeDistributed(Conv2D(32, (3,3), \n",
    "                                 kernel_initializer=initialiser, \n",
    "                                 kernel_regularizer=l2(l=reg_lambda)))\n",
    "                                 )\n",
    "model.add(TimeDistributed(BatchNormalization()))\n",
    "model.add(TimeDistributed(Activation('relu')))\n",
    "model.add(TimeDistributed(MaxPooling2D((2, 2), strides=(2, 2))))\n",
    "\n",
    "# 2nd-5th (default) blocks\n",
    "model = add_default_block(model, 64,  init=initialiser, reg_lambda=reg_lambda)\n",
    "model = add_default_block(model, 128, init=initialiser, reg_lambda=reg_lambda)\n",
    "model = add_default_block(model, 256, init=initialiser, reg_lambda=reg_lambda)\n",
    "#model = add_default_block(model, 512, init=initialiser, reg_lambda=reg_lambda)\n",
    "\n",
    "# LSTM output head\n",
    "model.add(TimeDistributed(Flatten()))\n",
    "model.add(LSTM(64, return_sequences=False, dropout=0.5))\n",
    "model.add(Dense(128, activation= 'relu'))\n",
    "model.add(Dense(64, activation= 'relu'))\n",
    "model.add(Dense(2, activation='softmax'))\n",
    "\n",
    "plot_model(model, to_file='model_plot.png', show_shapes=True, show_layer_names=True)\n",
    "model.summary()\n",
    "\n",
    "#model.compile(loss='categorical_crossentropy', optimizer=optimizer, metrics=metrics)"
   ]
  },
  {
   "cell_type": "code",
   "execution_count": null,
   "metadata": {},
   "outputs": [],
   "source": []
  },
  {
   "cell_type": "code",
   "execution_count": 5,
   "metadata": {},
   "outputs": [],
   "source": [
    "#optimizer = Adam(lr=1e-5, decay=1e-6)\n",
    "optimizer= RMSprop(lr=1e-4)\n",
    "model.compile(optimizer=optimizer , \n",
    "              loss='categorical_crossentropy',\n",
    "              #loss='binary_crossentropy',\n",
    "              metrics=['accuracy'])"
   ]
  },
  {
   "cell_type": "code",
   "execution_count": 6,
   "metadata": {},
   "outputs": [],
   "source": [
    "from keras.callbacks import TensorBoard, ModelCheckpoint, EarlyStopping, CSVLogger\n",
    "import os.path\n",
    "import time\n",
    "\n",
    "early_stopper = EarlyStopping(patience=5)\n",
    "#tb = TensorBoard(log_dir=os.path.join('F:\\DLProj\\ver4', 'logs'))\n",
    "timestamp = time.time()\n",
    "csv_logger =  CSVLogger(os.path.join('F:\\\\DLProj\\\\v4_1\\\\train\\\\logs', 'logs' + '-' + 'training-' + \\\n",
    "                        str(timestamp) + '.log'))\n",
    "\n",
    "# Create a TensorBoard logger\n",
    "tb = TensorBoard(\n",
    "    log_dir='logs',\n",
    "    write_graph=True,\n",
    "    histogram_freq=5)"
   ]
  },
  {
   "cell_type": "code",
   "execution_count": 16,
   "metadata": {},
   "outputs": [],
   "source": [
    "keras.backend.clear_session()"
   ]
  },
  {
   "cell_type": "code",
   "execution_count": null,
   "metadata": {},
   "outputs": [],
   "source": []
  },
  {
   "cell_type": "code",
   "execution_count": null,
   "metadata": {},
   "outputs": [],
   "source": []
  },
  {
   "cell_type": "code",
   "execution_count": 7,
   "metadata": {
    "collapsed": true,
    "jupyter": {
     "outputs_hidden": true
    }
   },
   "outputs": [
    {
     "name": "stdout",
     "output_type": "stream",
     "text": [
      "Epoch 1/50\n",
      "35/35 [==============================] - 213s 6s/step - loss: 1.4946 - accuracy: 0.4857 - val_loss: 1.4645 - val_accuracy: 0.5455\n",
      "\n",
      "Epoch 00001: saving model to F:/DLProj/v4_1/1.01-1.46.hdf5\n",
      "Epoch 2/50\n",
      "35/35 [==============================] - 170s 5s/step - loss: 1.4666 - accuracy: 0.5543 - val_loss: 1.5340 - val_accuracy: 0.5091\n",
      "\n",
      "Epoch 00002: saving model to F:/DLProj/v4_1/1.02-1.53.hdf5\n",
      "Epoch 3/50\n",
      "35/35 [==============================] - 210s 6s/step - loss: 1.4957 - accuracy: 0.5143 - val_loss: 1.5666 - val_accuracy: 0.5091\n",
      "\n",
      "Epoch 00003: saving model to F:/DLProj/v4_1/1.03-1.57.hdf5\n",
      "Epoch 4/50\n",
      "35/35 [==============================] - 155s 4s/step - loss: 1.4653 - accuracy: 0.6057 - val_loss: 1.6297 - val_accuracy: 0.5091\n",
      "\n",
      "Epoch 00004: saving model to F:/DLProj/v4_1/1.04-1.63.hdf5\n",
      "Epoch 5/50\n",
      "35/35 [==============================] - 222s 6s/step - loss: 1.4675 - accuracy: 0.5257 - val_loss: 1.7562 - val_accuracy: 0.5273\n",
      "\n",
      "Epoch 00005: saving model to F:/DLProj/v4_1/1.05-1.76.hdf5\n",
      "Epoch 6/50\n",
      "35/35 [==============================] - 165s 5s/step - loss: 1.4644 - accuracy: 0.5600 - val_loss: 1.2913 - val_accuracy: 0.5091\n",
      "\n",
      "Epoch 00006: saving model to F:/DLProj/v4_1/1.06-1.29.hdf5\n",
      "Epoch 7/50\n",
      "35/35 [==============================] - 173s 5s/step - loss: 1.4455 - accuracy: 0.6229 - val_loss: 1.5214 - val_accuracy: 0.5273\n",
      "\n",
      "Epoch 00007: saving model to F:/DLProj/v4_1/1.07-1.52.hdf5\n",
      "Epoch 8/50\n",
      "35/35 [==============================] - 186s 5s/step - loss: 1.4310 - accuracy: 0.6000 - val_loss: 1.6732 - val_accuracy: 0.5091\n",
      "\n",
      "Epoch 00008: saving model to F:/DLProj/v4_1/1.08-1.67.hdf5\n",
      "Epoch 9/50\n",
      "35/35 [==============================] - 187s 5s/step - loss: 1.4612 - accuracy: 0.5543 - val_loss: 1.5212 - val_accuracy: 0.6000\n",
      "\n",
      "Epoch 00009: saving model to F:/DLProj/v4_1/1.09-1.52.hdf5\n",
      "Epoch 10/50\n",
      "35/35 [==============================] - 191s 5s/step - loss: 1.4581 - accuracy: 0.6057 - val_loss: 1.3660 - val_accuracy: 0.5636\n",
      "\n",
      "Epoch 00010: saving model to F:/DLProj/v4_1/1.10-1.37.hdf5\n",
      "Epoch 11/50\n",
      "35/35 [==============================] - 198s 6s/step - loss: 1.4259 - accuracy: 0.6343 - val_loss: 1.5189 - val_accuracy: 0.6000\n",
      "\n",
      "Epoch 00011: saving model to F:/DLProj/v4_1/1.11-1.52.hdf5\n",
      "Epoch 12/50\n",
      "35/35 [==============================] - 202s 6s/step - loss: 1.4222 - accuracy: 0.5886 - val_loss: 1.4118 - val_accuracy: 0.6364\n",
      "\n",
      "Epoch 00012: saving model to F:/DLProj/v4_1/1.12-1.41.hdf5\n",
      "Epoch 13/50\n",
      "35/35 [==============================] - 157s 4s/step - loss: 1.4559 - accuracy: 0.5486 - val_loss: 1.2783 - val_accuracy: 0.6909\n",
      "\n",
      "Epoch 00013: saving model to F:/DLProj/v4_1/1.13-1.28.hdf5\n",
      "Epoch 14/50\n",
      "35/35 [==============================] - 159s 5s/step - loss: 1.3989 - accuracy: 0.6514 - val_loss: 1.1232 - val_accuracy: 0.6182\n",
      "\n",
      "Epoch 00014: saving model to F:/DLProj/v4_1/1.14-1.12.hdf5\n",
      "Epoch 15/50\n",
      "35/35 [==============================] - 199s 6s/step - loss: 1.4034 - accuracy: 0.6286 - val_loss: 1.8729 - val_accuracy: 0.6545\n",
      "\n",
      "Epoch 00015: saving model to F:/DLProj/v4_1/1.15-1.87.hdf5\n",
      "Epoch 16/50\n",
      "35/35 [==============================] - 170s 5s/step - loss: 1.4343 - accuracy: 0.6171 - val_loss: 1.3625 - val_accuracy: 0.6000\n",
      "\n",
      "Epoch 00016: saving model to F:/DLProj/v4_1/1.16-1.36.hdf5\n",
      "Epoch 17/50\n",
      "35/35 [==============================] - 150s 4s/step - loss: 1.3596 - accuracy: 0.6743 - val_loss: 1.4511 - val_accuracy: 0.6364\n",
      "\n",
      "Epoch 00017: saving model to F:/DLProj/v4_1/1.17-1.45.hdf5\n",
      "Epoch 18/50\n",
      "35/35 [==============================] - 231s 7s/step - loss: 1.4431 - accuracy: 0.6229 - val_loss: 1.2395 - val_accuracy: 0.6545\n",
      "\n",
      "Epoch 00018: saving model to F:/DLProj/v4_1/1.18-1.24.hdf5\n",
      "Epoch 19/50\n",
      "35/35 [==============================] - 159s 5s/step - loss: 1.4057 - accuracy: 0.6286 - val_loss: 1.4550 - val_accuracy: 0.6000\n",
      "\n",
      "Epoch 00019: saving model to F:/DLProj/v4_1/1.19-1.45.hdf5\n",
      "Epoch 20/50\n",
      "35/35 [==============================] - 186s 5s/step - loss: 1.4214 - accuracy: 0.6114 - val_loss: 1.2182 - val_accuracy: 0.6182\n",
      "\n",
      "Epoch 00020: saving model to F:/DLProj/v4_1/1.20-1.22.hdf5\n",
      "Epoch 21/50\n",
      "35/35 [==============================] - 179s 5s/step - loss: 1.3990 - accuracy: 0.6571 - val_loss: 1.5283 - val_accuracy: 0.6364\n",
      "\n",
      "Epoch 00021: saving model to F:/DLProj/v4_1/1.21-1.53.hdf5\n",
      "Epoch 22/50\n",
      "35/35 [==============================] - 152s 4s/step - loss: 1.3972 - accuracy: 0.6229 - val_loss: 1.2744 - val_accuracy: 0.5818\n",
      "\n",
      "Epoch 00022: saving model to F:/DLProj/v4_1/1.22-1.27.hdf5\n",
      "Epoch 23/50\n",
      "35/35 [==============================] - 135s 4s/step - loss: 1.3632 - accuracy: 0.6743 - val_loss: 1.1472 - val_accuracy: 0.6364\n",
      "\n",
      "Epoch 00023: saving model to F:/DLProj/v4_1/1.23-1.15.hdf5\n",
      "Epoch 24/50\n",
      "35/35 [==============================] - 128s 4s/step - loss: 1.4008 - accuracy: 0.6400 - val_loss: 1.6679 - val_accuracy: 0.6727\n",
      "\n",
      "Epoch 00024: saving model to F:/DLProj/v4_1/1.24-1.67.hdf5\n",
      "Epoch 25/50\n",
      "35/35 [==============================] - 150s 4s/step - loss: 1.3832 - accuracy: 0.6800 - val_loss: 1.5081 - val_accuracy: 0.6000\n",
      "\n",
      "Epoch 00025: saving model to F:/DLProj/v4_1/1.25-1.51.hdf5\n",
      "Epoch 26/50\n",
      "35/35 [==============================] - 120s 3s/step - loss: 1.3943 - accuracy: 0.6686 - val_loss: 1.6885 - val_accuracy: 0.7273\n",
      "\n",
      "Epoch 00026: saving model to F:/DLProj/v4_1/1.26-1.69.hdf5\n",
      "Epoch 27/50\n",
      "35/35 [==============================] - 130s 4s/step - loss: 1.3854 - accuracy: 0.6914 - val_loss: 1.4131 - val_accuracy: 0.5818\n",
      "\n",
      "Epoch 00027: saving model to F:/DLProj/v4_1/1.27-1.41.hdf5\n",
      "Epoch 28/50\n",
      "35/35 [==============================] - 133s 4s/step - loss: 1.3625 - accuracy: 0.6971 - val_loss: 1.0242 - val_accuracy: 0.5636\n",
      "\n",
      "Epoch 00028: saving model to F:/DLProj/v4_1/1.28-1.02.hdf5\n",
      "Epoch 29/50\n",
      "35/35 [==============================] - 131s 4s/step - loss: 1.3768 - accuracy: 0.6514 - val_loss: 1.3251 - val_accuracy: 0.6182\n",
      "\n",
      "Epoch 00029: saving model to F:/DLProj/v4_1/1.29-1.33.hdf5\n",
      "Epoch 30/50\n",
      "35/35 [==============================] - 124s 4s/step - loss: 1.3627 - accuracy: 0.6857 - val_loss: 1.4469 - val_accuracy: 0.6364\n",
      "\n",
      "Epoch 00030: saving model to F:/DLProj/v4_1/1.30-1.45.hdf5\n",
      "Epoch 31/50\n",
      "35/35 [==============================] - 124s 4s/step - loss: 1.3879 - accuracy: 0.6571 - val_loss: 1.3523 - val_accuracy: 0.5636\n",
      "\n",
      "Epoch 00031: saving model to F:/DLProj/v4_1/1.31-1.35.hdf5\n",
      "Epoch 32/50\n",
      "35/35 [==============================] - 96s 3s/step - loss: 1.4189 - accuracy: 0.6457 - val_loss: 1.5558 - val_accuracy: 0.6182\n",
      "\n",
      "Epoch 00032: saving model to F:/DLProj/v4_1/1.32-1.56.hdf5\n",
      "Epoch 33/50\n",
      "35/35 [==============================] - 112s 3s/step - loss: 1.4190 - accuracy: 0.6514 - val_loss: 1.7005 - val_accuracy: 0.6727\n",
      "\n",
      "Epoch 00033: saving model to F:/DLProj/v4_1/1.33-1.70.hdf5\n",
      "Epoch 34/50\n",
      "35/35 [==============================] - 116s 3s/step - loss: 1.3888 - accuracy: 0.6571 - val_loss: 1.1931 - val_accuracy: 0.6000\n",
      "\n",
      "Epoch 00034: saving model to F:/DLProj/v4_1/1.34-1.19.hdf5\n",
      "Epoch 35/50\n",
      "35/35 [==============================] - 111s 3s/step - loss: 1.3899 - accuracy: 0.6343 - val_loss: 1.2429 - val_accuracy: 0.5636\n",
      "\n",
      "Epoch 00035: saving model to F:/DLProj/v4_1/1.35-1.24.hdf5\n",
      "Epoch 36/50\n",
      "35/35 [==============================] - 126s 4s/step - loss: 1.4134 - accuracy: 0.6286 - val_loss: 1.5240 - val_accuracy: 0.6909\n",
      "\n",
      "Epoch 00036: saving model to F:/DLProj/v4_1/1.36-1.52.hdf5\n",
      "Epoch 37/50\n",
      "35/35 [==============================] - 114s 3s/step - loss: 1.3971 - accuracy: 0.6286 - val_loss: 1.5156 - val_accuracy: 0.6545\n",
      "\n",
      "Epoch 00037: saving model to F:/DLProj/v4_1/1.37-1.52.hdf5\n",
      "Epoch 38/50\n",
      "35/35 [==============================] - 114s 3s/step - loss: 1.3707 - accuracy: 0.6457 - val_loss: 1.4182 - val_accuracy: 0.6545\n",
      "\n",
      "Epoch 00038: saving model to F:/DLProj/v4_1/1.38-1.42.hdf5\n",
      "Epoch 39/50\n",
      "35/35 [==============================] - 110s 3s/step - loss: 1.3596 - accuracy: 0.6743 - val_loss: 1.5126 - val_accuracy: 0.6727\n",
      "\n",
      "Epoch 00039: saving model to F:/DLProj/v4_1/1.39-1.51.hdf5\n",
      "Epoch 40/50\n",
      "35/35 [==============================] - 113s 3s/step - loss: 1.3191 - accuracy: 0.6971 - val_loss: 1.7011 - val_accuracy: 0.6909\n",
      "\n",
      "Epoch 00040: saving model to F:/DLProj/v4_1/1.40-1.70.hdf5\n",
      "Epoch 41/50\n",
      "35/35 [==============================] - 107s 3s/step - loss: 1.3706 - accuracy: 0.6743 - val_loss: 1.2564 - val_accuracy: 0.7273\n",
      "\n",
      "Epoch 00041: saving model to F:/DLProj/v4_1/1.41-1.26.hdf5\n",
      "Epoch 42/50\n",
      "35/35 [==============================] - 110s 3s/step - loss: 1.3693 - accuracy: 0.6743 - val_loss: 1.4882 - val_accuracy: 0.7273\n",
      "\n",
      "Epoch 00042: saving model to F:/DLProj/v4_1/1.42-1.49.hdf5\n",
      "Epoch 43/50\n",
      "35/35 [==============================] - 112s 3s/step - loss: 1.3324 - accuracy: 0.6971 - val_loss: 1.0563 - val_accuracy: 0.6182\n",
      "\n",
      "Epoch 00043: saving model to F:/DLProj/v4_1/1.43-1.06.hdf5\n",
      "Epoch 44/50\n",
      "35/35 [==============================] - 115s 3s/step - loss: 1.3937 - accuracy: 0.6286 - val_loss: 1.6429 - val_accuracy: 0.5091\n",
      "\n",
      "Epoch 00044: saving model to F:/DLProj/v4_1/1.44-1.64.hdf5\n",
      "Epoch 45/50\n",
      "35/35 [==============================] - 101s 3s/step - loss: 1.4116 - accuracy: 0.6400 - val_loss: 1.6990 - val_accuracy: 0.6182\n",
      "\n",
      "Epoch 00045: saving model to F:/DLProj/v4_1/1.45-1.70.hdf5\n",
      "Epoch 46/50\n",
      "35/35 [==============================] - 105s 3s/step - loss: 1.3736 - accuracy: 0.6400 - val_loss: 1.3898 - val_accuracy: 0.6545\n",
      "\n",
      "Epoch 00046: saving model to F:/DLProj/v4_1/1.46-1.39.hdf5\n",
      "Epoch 47/50\n",
      "35/35 [==============================] - 110s 3s/step - loss: 1.4028 - accuracy: 0.6457 - val_loss: 1.2621 - val_accuracy: 0.6000\n",
      "\n",
      "Epoch 00047: saving model to F:/DLProj/v4_1/1.47-1.26.hdf5\n",
      "Epoch 48/50\n",
      "35/35 [==============================] - 96s 3s/step - loss: 1.3831 - accuracy: 0.6686 - val_loss: 2.0811 - val_accuracy: 0.5455\n",
      "\n",
      "Epoch 00048: saving model to F:/DLProj/v4_1/1.48-2.08.hdf5\n",
      "Epoch 49/50\n",
      "35/35 [==============================] - 115s 3s/step - loss: 1.3477 - accuracy: 0.6743 - val_loss: 1.9570 - val_accuracy: 0.5091\n",
      "\n",
      "Epoch 00049: saving model to F:/DLProj/v4_1/1.49-1.96.hdf5\n",
      "Epoch 50/50\n",
      "35/35 [==============================] - 104s 3s/step - loss: 1.3087 - accuracy: 0.6857 - val_loss: 2.2592 - val_accuracy: 0.4909\n",
      "\n",
      "Epoch 00050: saving model to F:/DLProj/v4_1/1.50-2.26.hdf5\n"
     ]
    }
   ],
   "source": [
    "history = model.fit_generator(\n",
    "                    train, \n",
    "                    validation_data= valid, \n",
    "                    #batch_size= 5,\n",
    "                    verbose=1,\n",
    "                    callbacks=[ csv_logger,\n",
    "                    keras.callbacks.ModelCheckpoint('F:/DLProj/v4_1/1.{epoch:02d}-{val_loss:.2f}.hdf5',verbose=1),\n",
    "],\n",
    "                    epochs = 50)"
   ]
  },
  {
   "cell_type": "code",
   "execution_count": null,
   "metadata": {},
   "outputs": [],
   "source": []
  },
  {
   "cell_type": "code",
   "execution_count": 10,
   "metadata": {},
   "outputs": [],
   "source": [
    "from keras.models import model_from_json\n",
    "# serialize model to json\n",
    "json_model = model.to_json()\n",
    "#save the model architecture to JSON file\n",
    "with open('F:/DLProj/v4_1/train/Model/v1.json', 'w') as json_file:\n",
    "    json_file.write(json_model)"
   ]
  },
  {
   "cell_type": "code",
   "execution_count": 8,
   "metadata": {},
   "outputs": [],
   "source": [
    "model.save_weights('ver_4_1_gen_model_weights.h5')\n",
    "\n",
    "# Save the model architecture\n",
    "with open('ver_4_1_gen_model_architecture.json', 'w') as f:\n",
    "    f.write(model.to_json())"
   ]
  },
  {
   "cell_type": "code",
   "execution_count": 9,
   "metadata": {},
   "outputs": [
    {
     "name": "stdout",
     "output_type": "stream",
     "text": [
      "['bmh', 'classic', 'dark_background', 'fast', 'fivethirtyeight', 'ggplot', 'grayscale', 'seaborn-bright', 'seaborn-colorblind', 'seaborn-dark-palette', 'seaborn-dark', 'seaborn-darkgrid', 'seaborn-deep', 'seaborn-muted', 'seaborn-notebook', 'seaborn-paper', 'seaborn-pastel', 'seaborn-poster', 'seaborn-talk', 'seaborn-ticks', 'seaborn-white', 'seaborn-whitegrid', 'seaborn', 'Solarize_Light2', 'tableau-colorblind10', '_classic_test']\n"
     ]
    },
    {
     "data": {
      "image/png": "[encoded data removed]",
      "text/plain": [
       "<Figure size 504x360 with 1 Axes>"
      ]
     },
     "metadata": {
      "needs_background": "light"
     },
     "output_type": "display_data"
    },
    {
     "data": {
      "image/png": "[encoded data removed]",
      "text/plain": [
       "<Figure size 560x400 with 1 Axes>"
      ]
     },
     "metadata": {},
     "output_type": "display_data"
    }
   ],
   "source": [
    "import matplotlib.pyplot as plt\n",
    "train_loss=history.history['loss']\n",
    "val_loss=history.history['val_loss']\n",
    "train_acc=history.history['accuracy']\n",
    "val_acc=history.history['val_accuracy']\n",
    "xc=range(50)\n",
    "\n",
    "plt.figure(1,figsize=(7,5))\n",
    "plt.plot(xc,train_loss)\n",
    "plt.plot(xc,val_loss)\n",
    "plt.xlabel('num of Epochs')\n",
    "plt.ylabel('loss')\n",
    "plt.title('train_loss vs val_loss')\n",
    "plt.grid(True)\n",
    "plt.legend(['train','val'])\n",
    "print (plt.style.available) # use bmh, classic,ggplot for big pictures\n",
    "plt.style.use(['classic'])\n",
    "\n",
    "plt.figure(2,figsize=(7,5))\n",
    "plt.plot(xc,train_acc)\n",
    "plt.plot(xc,val_acc)\n",
    "plt.xlabel('num of Epochs')\n",
    "plt.ylabel('accuracy')\n",
    "plt.title('train_acc vs val_acc')\n",
    "plt.grid(True)\n",
    "plt.legend(['train','val'],loc=4)\n",
    "#print plt.style.available # use bmh, classic,ggplot for big pictures\n",
    "plt.style.use(['classic'])"
   ]
  },
  {
   "cell_type": "code",
   "execution_count": 36,
   "metadata": {},
   "outputs": [],
   "source": [
    "del plt"
   ]
  },
  {
   "cell_type": "code",
   "execution_count": null,
   "metadata": {},
   "outputs": [],
   "source": []
  }
 ],
 "metadata": {
  "kernelspec": {
   "display_name": "Python 3",
   "language": "python",
   "name": "python3"
  },
  "language_info": {
   "codemirror_mode": {
    "name": "ipython",
    "version": 3
   },
   "file_extension": ".py",
   "mimetype": "text/x-python",
   "name": "python",
   "nbconvert_exporter": "python",
   "pygments_lexer": "ipython3",
   "version": "3.7.4"
  }
 },
 "nbformat": 4,
 "nbformat_minor": 4
}
