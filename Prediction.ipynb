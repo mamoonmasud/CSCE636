{
 "cells": [
  {
   "cell_type": "code",
   "execution_count": 1,
   "metadata": {},
   "outputs": [
    {
     "name": "stderr",
     "output_type": "stream",
     "text": [
      "Using TensorFlow backend.\n"
     ]
    }
   ],
   "source": [
    "import os\n",
    "import glob\n",
    "import keras\n",
    "from keras_video import VideoFrameGenerator\n",
    "import keras_video.utils\n",
    "from keras.layers.wrappers import TimeDistributed\n",
    "from keras.layers.convolutional import (Conv2D, MaxPooling3D, Conv3D,MaxPooling2D)\n",
    "from keras.layers import Dense, Flatten, Dropout, ZeroPadding3D\n",
    "from keras.layers.recurrent import LSTM\n",
    "from keras.models import Sequential, load_model\n",
    "from keras.optimizers import Adam, RMSprop\n",
    "from collections import deque\n",
    "from keras.regularizers import l2\n",
    "from keras.layers import BatchNormalization\n",
    "from keras.utils.vis_utils import plot_model\n",
    "from keras.layers.core import Dense, Dropout, Activation, Flatten\n",
    "from keras.callbacks import TensorBoard, ModelCheckpoint, EarlyStopping, CSVLogger\n",
    "import os.path\n",
    "import time\n",
    "import cv2\n",
    "import numpy as np"
   ]
  },
  {
   "cell_type": "markdown",
   "metadata": {},
   "source": [
    "# Loading the Saved Model & Weights"
   ]
  },
  {
   "cell_type": "code",
   "execution_count": 2,
   "metadata": {},
   "outputs": [],
   "source": [
    "# Set the path to the saved location of the JSON file. \n",
    "\n",
    "with open('F:/DLProj/v4_1/train/Model/v1.json', 'r') as json_file:\n",
    "    json_savedModel= json_file.read()\n",
    "#load the model architecture \n",
    "model = keras.models.model_from_json(json_savedModel)\n",
    "# Load the saved model weight\n",
    "model.load_weights('F:/DLProj/v4_1/train/Weight/v1_41.hdf5')"
   ]
  },
  {
   "cell_type": "markdown",
   "metadata": {},
   "source": [
    "# Testing the model on new data"
   ]
  },
  {
   "cell_type": "code",
   "execution_count": 3,
   "metadata": {},
   "outputs": [],
   "source": [
    "import numpy as np\n",
    "img_rows, img_cols, img_depth = 300, 300, 15"
   ]
  },
  {
   "cell_type": "code",
   "execution_count": 4,
   "metadata": {},
   "outputs": [],
   "source": [
    "def predict_door(input_file, output_file):\n",
    "    x_train = [] #Variable for storing the files \n",
    "    ## Code for extracting 15 frames (distanced at equal interval in the video) from Door Training set\n",
    "    t_hold = 0.501 #threshold for class prediction\n",
    "    vid_p = input_file\n",
    "    interval_duration = 7 # This defines the seconds after which we make a prediction\n",
    "    frames = []\n",
    "    legend = []\n",
    "    cap = cv2.VideoCapture(vid_p)\n",
    "    fps = cap.get(5) # Getting the frames per second. \n",
    "    total_frames = int(cap.get(7))  #Total frames in the video\n",
    "    vid_dur = int(total_frames/fps) # Gives the video duration in seconds\n",
    "    intervals = int(vid_dur/interval_duration) #This defines how many predictions we'll make\n",
    "    if intervals == 0:\n",
    "        intervals = 1\n",
    "    frame_per_interval = total_frames //intervals #This defines how many frames are in total for each prediction duration (7 secs)\n",
    "    frame_distance = frame_per_interval//img_depth #This defines the no. of frames we'll skip.\n",
    "\n",
    "    frame_count = 0 # This variable keeps count of the total frames, and is reset after extracting each frame\n",
    "    save_frame = 0 \n",
    "    interval_count = 1\n",
    "\n",
    "    for i in range (total_frames): #iterating over all the frames of the video.\n",
    "            ret, frame = cap.read()\n",
    "            if ret ==False:  # Checking if the frame is missing, and if missing, we take the previous frame\n",
    "                frame = f_prev\n",
    "            elif ret==True:\n",
    "                f_prev =frame\n",
    "            frame_count +=1\n",
    "            if frame_count ==(frame_distance):\n",
    "                frame_count = 0\n",
    "                frame=cv2.resize(frame,(img_rows,img_cols),interpolation=cv2.INTER_AREA)\n",
    "                frames.append(frame)\n",
    "\n",
    "            if i == ((interval_count*frame_per_interval)-1):\n",
    "                inpt = np.array(frames)\n",
    "                inpt = inpt.astype('float32')\n",
    "                inpt -= np.mean(inpt)\n",
    "                inpt /=np.max(inpt)\n",
    "                \n",
    "                frames = []\n",
    "                mod_in = np.zeros((1, 15, 300, 300, 3))\n",
    "                mod_in[0][:][:][:][:] = inpt[:15][:][:][:]\n",
    "                p = model.predict(mod_in, batch_size = 1)#verbose = 1)\n",
    "                prob = p[:][0][0]\n",
    "                s0 = (interval_count-1)*interval_duration #Starting time of the interval in secs\n",
    "                s1 = (interval_count)*interval_duration   # Ending time of the interval in secs\n",
    "                print(p)\n",
    "                if prob >= t_hold:\n",
    "                    s2 = ['Door: ' +  str(s0) + 'secs - ' + str(s1) + 'secs.']\n",
    "                else:\n",
    "                    s2 = ['Not_Door: ' +  str(s0) + 'secs - ' + str(s1) + 'secs.']\n",
    "                interval_count += 1 #Incrementing interval count by 1\n",
    "                legend.append(s2)\n",
    "\n",
    "            if cv2.waitKey(1) & 0xFF == ord('q'):\n",
    "                break\n",
    "    cap.release()\n",
    "    cv2.destroyAllWindows()\n",
    "    print(legend)\n",
    "    with open(output_file, 'w') as f:\n",
    "        f.write(str(legend))"
   ]
  },
  {
   "cell_type": "code",
   "execution_count": 5,
   "metadata": {},
   "outputs": [
    {
     "name": "stdout",
     "output_type": "stream",
     "text": [
      "[[0.7573096  0.24269037]]\n",
      "[[0.7421755  0.25782445]]\n",
      "[[0.2747539 0.7252461]]\n",
      "[[0.86289823 0.13710177]]\n",
      "[['Door: 0secs - 7secs.'], ['Door: 7secs - 14secs.'], ['Not_Door: 14secs - 21secs.'], ['Door: 21secs - 28secs.']]\n"
     ]
    }
   ],
   "source": [
    "in_1 = 'F:/Testing/00NN7.MP4'\n",
    "out_2 = 'F:/Testing/00NN7.txt'\n",
    "\n",
    "predict_door(in_1 , out_2)"
   ]
  },
  {
   "cell_type": "code",
   "execution_count": null,
   "metadata": {},
   "outputs": [],
   "source": []
  }
 ],
 "metadata": {
  "kernelspec": {
   "display_name": "Python 3",
   "language": "python",
   "name": "python3"
  },
  "language_info": {
   "codemirror_mode": {
    "name": "ipython",
    "version": 3
   },
   "file_extension": ".py",
   "mimetype": "text/x-python",
   "name": "python",
   "nbconvert_exporter": "python",
   "pygments_lexer": "ipython3",
   "version": "3.7.4"
  }
 },
 "nbformat": 4,
 "nbformat_minor": 4
}
