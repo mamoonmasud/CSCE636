{
 "cells": [
  {
   "cell_type": "code",
   "execution_count": 6,
   "metadata": {},
   "outputs": [
    {
     "name": "stderr",
     "output_type": "stream",
     "text": [
      "Using TensorFlow backend.\n"
     ]
    }
   ],
   "source": [
    "import os\n",
    "import glob\n",
    "import keras\n",
    "from keras_video import VideoFrameGenerator\n",
    "import keras_video.utils\n",
    "from keras.layers.wrappers import TimeDistributed\n",
    "from keras.layers.convolutional import (Conv2D, MaxPooling3D, Conv3D,MaxPooling2D)\n",
    "from keras.layers import Dense, Flatten, Dropout, ZeroPadding3D\n",
    "from keras.layers.recurrent import LSTM\n",
    "from keras.models import Sequential, load_model\n",
    "from keras.optimizers import Adam, RMSprop\n",
    "from collections import deque\n",
    "from keras.regularizers import l2\n",
    "from keras.layers import BatchNormalization\n",
    "from keras.utils.vis_utils import plot_model\n",
    "from keras.layers.core import Dense, Dropout, Activation, Flatten\n",
    "from keras.callbacks import TensorBoard, ModelCheckpoint, EarlyStopping, CSVLogger\n",
    "import os.path\n",
    "import time"
   ]
  },
  {
   "cell_type": "markdown",
   "metadata": {},
   "source": [
    "# Loading the Model From the saved JSON File"
   ]
  },
  {
   "cell_type": "code",
   "execution_count": 8,
   "metadata": {
    "collapsed": true,
    "jupyter": {
     "outputs_hidden": true
    }
   },
   "outputs": [
    {
     "name": "stdout",
     "output_type": "stream",
     "text": [
      "Model: \"sequential_1\"\n",
      "_________________________________________________________________\n",
      "Layer (type)                 Output Shape              Param #   \n",
      "=================================================================\n",
      "time_distributed_1 (TimeDist (None, 15, 98, 98, 32)    4736      \n",
      "_________________________________________________________________\n",
      "time_distributed_2 (TimeDist (None, 15, 96, 96, 32)    9248      \n",
      "_________________________________________________________________\n",
      "time_distributed_3 (TimeDist (None, 15, 96, 96, 32)    128       \n",
      "_________________________________________________________________\n",
      "time_distributed_4 (TimeDist (None, 15, 96, 96, 32)    0         \n",
      "_________________________________________________________________\n",
      "time_distributed_5 (TimeDist (None, 15, 48, 48, 32)    0         \n",
      "_________________________________________________________________\n",
      "time_distributed_6 (TimeDist (None, 15, 48, 48, 64)    18496     \n",
      "_________________________________________________________________\n",
      "time_distributed_7 (TimeDist (None, 15, 48, 48, 64)    256       \n",
      "_________________________________________________________________\n",
      "time_distributed_8 (TimeDist (None, 15, 48, 48, 64)    0         \n",
      "_________________________________________________________________\n",
      "time_distributed_9 (TimeDist (None, 15, 46, 46, 64)    36928     \n",
      "_________________________________________________________________\n",
      "time_distributed_10 (TimeDis (None, 15, 46, 46, 64)    256       \n",
      "_________________________________________________________________\n",
      "time_distributed_11 (TimeDis (None, 15, 46, 46, 64)    0         \n",
      "_________________________________________________________________\n",
      "time_distributed_12 (TimeDis (None, 15, 23, 23, 64)    0         \n",
      "_________________________________________________________________\n",
      "time_distributed_13 (TimeDis (None, 15, 23, 23, 128)   73856     \n",
      "_________________________________________________________________\n",
      "time_distributed_14 (TimeDis (None, 15, 23, 23, 128)   512       \n",
      "_________________________________________________________________\n",
      "time_distributed_15 (TimeDis (None, 15, 23, 23, 128)   0         \n",
      "_________________________________________________________________\n",
      "time_distributed_16 (TimeDis (None, 15, 21, 21, 128)   147584    \n",
      "_________________________________________________________________\n",
      "time_distributed_17 (TimeDis (None, 15, 21, 21, 128)   512       \n",
      "_________________________________________________________________\n",
      "time_distributed_18 (TimeDis (None, 15, 21, 21, 128)   0         \n",
      "_________________________________________________________________\n",
      "time_distributed_19 (TimeDis (None, 15, 10, 10, 128)   0         \n",
      "_________________________________________________________________\n",
      "time_distributed_20 (TimeDis (None, 15, 10, 10, 256)   295168    \n",
      "_________________________________________________________________\n",
      "time_distributed_21 (TimeDis (None, 15, 10, 10, 256)   1024      \n",
      "_________________________________________________________________\n",
      "time_distributed_22 (TimeDis (None, 15, 10, 10, 256)   0         \n",
      "_________________________________________________________________\n",
      "time_distributed_23 (TimeDis (None, 15, 8, 8, 256)     590080    \n",
      "_________________________________________________________________\n",
      "time_distributed_24 (TimeDis (None, 15, 8, 8, 256)     1024      \n",
      "_________________________________________________________________\n",
      "time_distributed_25 (TimeDis (None, 15, 8, 8, 256)     0         \n",
      "_________________________________________________________________\n",
      "time_distributed_26 (TimeDis (None, 15, 4, 4, 256)     0         \n",
      "_________________________________________________________________\n",
      "time_distributed_27 (TimeDis (None, 15, 4096)          0         \n",
      "_________________________________________________________________\n",
      "lstm_1 (LSTM)                (None, 64)                1065216   \n",
      "_________________________________________________________________\n",
      "dense_1 (Dense)              (None, 128)               8320      \n",
      "_________________________________________________________________\n",
      "dense_2 (Dense)              (None, 64)                8256      \n",
      "_________________________________________________________________\n",
      "dense_3 (Dense)              (None, 2)                 130       \n",
      "=================================================================\n",
      "Total params: 2,261,730\n",
      "Trainable params: 2,259,874\n",
      "Non-trainable params: 1,856\n",
      "_________________________________________________________________\n"
     ]
    }
   ],
   "source": [
    "# Set the path to the saved location of the JSON file. \n",
    "\n",
    "with open('F:/DLProj/v4_1/train/Model/v1.json', 'r') as json_file:\n",
    "    json_savedModel= json_file.read()\n",
    "#load the model architecture \n",
    "model_j = keras.models.model_from_json(json_savedModel)\n",
    "model_j.summary()\n"
   ]
  },
  {
   "cell_type": "code",
   "execution_count": 9,
   "metadata": {},
   "outputs": [],
   "source": [
    "# Load the saved model weight\n",
    "model_j.load_weights('F:/DLProj/v4_1/train/Weight/v1_41.hdf5')"
   ]
  },
  {
   "cell_type": "markdown",
   "metadata": {},
   "source": [
    "# Defining the video generator for the test set"
   ]
  },
  {
   "cell_type": "code",
   "execution_count": 23,
   "metadata": {},
   "outputs": [
    {
     "name": "stdout",
     "output_type": "stream",
     "text": [
      "class door, validation count: 0, train count: 16\n",
      "class not_door, validation count: 0, train count: 15\n",
      "Total data: 2 classes for 31 files for train\n"
     ]
    }
   ],
   "source": [
    "import os\n",
    "import glob\n",
    "import keras\n",
    "from keras_video import VideoFrameGenerator\n",
    "\n",
    "# use sub directories names as classes\n",
    "classes = [i.split(os.path.sep)[1] for i in glob.glob('F:/DLProj/v5_2/test/*')]\n",
    "classes.sort()\n",
    "# some global params\n",
    "SIZE = (300, 300)\n",
    "CHANNELS = 3\n",
    "NBFRAME = 15\n",
    "BS = 5\n",
    "# pattern to get videos and classes\n",
    "glob_pattern='F:/DLProj/v5_2/test/{classname}/*.mp4'\n",
    "# for data augmentation\n",
    "data_aug = keras.preprocessing.image.ImageDataGenerator(\n",
    "    zoom_range=.1,\n",
    "    horizontal_flip=True,\n",
    "    rotation_range=8,\n",
    "    width_shift_range=.2,\n",
    "    height_shift_range=.2)\n",
    "# Create video frame generator\n",
    "test = VideoFrameGenerator(\n",
    "    classes=classes, \n",
    "    glob_pattern=glob_pattern,\n",
    "    nb_frames=NBFRAME,\n",
    "    split_val=0.00001,  # 33% of the videos will be used as validation set. \n",
    "    shuffle=True,\n",
    "    batch_size=BS,\n",
    "    target_shape=SIZE,\n",
    "    nb_channel=CHANNELS,\n",
    "    transformation=data_aug,\n",
    "    use_frame_cache=False)"
   ]
  },
  {
   "cell_type": "code",
   "execution_count": 19,
   "metadata": {},
   "outputs": [],
   "source": [
    "optimizer= RMSprop(lr=1e-4)\n",
    "model_j.compile(optimizer=optimizer , \n",
    "              loss='categorical_crossentropy',\n",
    "              #loss='binary_crossentropy',\n",
    "              metrics=['accuracy'])"
   ]
  },
  {
   "cell_type": "code",
   "execution_count": 24,
   "metadata": {},
   "outputs": [
    {
     "name": "stdout",
     "output_type": "stream",
     "text": [
      "6/6 [==============================] - 19s 3s/step\n"
     ]
    }
   ],
   "source": [
    "histos = model_j.evaluate_generator(test,\n",
    "                                   verbose = 1)"
   ]
  },
  {
   "cell_type": "code",
   "execution_count": 28,
   "metadata": {},
   "outputs": [
    {
     "name": "stdout",
     "output_type": "stream",
     "text": [
      "Test score: 1.0280625820159912\n",
      "Test accuracy: 0.6666666865348816\n"
     ]
    }
   ],
   "source": [
    "print('Test score:', histos[0])\n",
    "print('Test accuracy:', histos[1])"
   ]
  },
  {
   "cell_type": "code",
   "execution_count": 30,
   "metadata": {},
   "outputs": [
    {
     "data": {
      "text/plain": [
       "<bound method Sequential.predict_classes of <keras.engine.sequential.Sequential object at 0x00000194A5875608>>"
      ]
     },
     "execution_count": 30,
     "metadata": {},
     "output_type": "execute_result"
    }
   ],
   "source": [
    "model_j.predict_classes"
   ]
  },
  {
   "cell_type": "code",
   "execution_count": null,
   "metadata": {},
   "outputs": [],
   "source": []
  }
 ],
 "metadata": {
  "kernelspec": {
   "display_name": "Python 3",
   "language": "python",
   "name": "python3"
  },
  "language_info": {
   "codemirror_mode": {
    "name": "ipython",
    "version": 3
   },
   "file_extension": ".py",
   "mimetype": "text/x-python",
   "name": "python",
   "nbconvert_exporter": "python",
   "pygments_lexer": "ipython3",
   "version": "3.7.4"
  }
 },
 "nbformat": 4,
 "nbformat_minor": 4
}
